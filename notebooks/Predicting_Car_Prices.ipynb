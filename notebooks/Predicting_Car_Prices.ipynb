{
 "cells": [
  {
   "cell_type": "markdown",
   "metadata": {},
   "source": [
    "# Predicting Car Prices\n",
    "In this project, we will use the CRISP-DM process to predict a car's market price using its attributes. The data set we will be working with contains information on various cars. For each car we have information about the technical aspects of the vehicle such as the motor's displacement, the weight of the car, the miles per gallon, how fast the car accelerates, and more. "
   ]
  },
  {
   "cell_type": "markdown",
   "metadata": {},
   "source": [
    "## Business Understanding\n",
    "The CRISP-DM process starts with the understanding of the business problem. Imagine for example a used car dealer who needs estimates what the price of a used care could be. The car dealer could be interest in predicting the price of a car based on its attributes. In this project we try to answer to the following 3 business questions:\n",
    "* Is the price of a car related to the horsepower?\n",
    "* Is the price of a car related to the length of the car?\n",
    "* Can the price of a car be predicted based on its attribute with reasonable accuracy? \n"
   ]
  },
  {
   "cell_type": "markdown",
   "metadata": {},
   "source": [
    "## Data Understanding "
   ]
  },
  {
   "cell_type": "markdown",
   "metadata": {},
   "source": [
    "The data is taken from the UCI machine learning repository and can be downloaded <a href = \"https://archive.ics.uci.edu/ml/datasets/automobile\"> here </a>. Let us read in the data and have a first look at it:"
   ]
  },
  {
   "cell_type": "code",
   "execution_count": 2,
   "metadata": {
    "collapsed": true
   },
   "outputs": [],
   "source": [
    "import pandas as pd\n",
    "import numpy as np"
   ]
  },
  {
   "cell_type": "code",
   "execution_count": 3,
   "metadata": {
    "collapsed": true
   },
   "outputs": [],
   "source": [
    "data = pd.read_csv(r\"C:\\Repositories\\Predicting-Car-Proces\\data\\imports-85.data\")"
   ]
  },
  {
   "cell_type": "code",
   "execution_count": 4,
   "metadata": {
    "collapsed": false
   },
   "outputs": [
    {
     "data": {
      "text/html": [
       "<div>\n",
       "<style scoped>\n",
       "    .dataframe tbody tr th:only-of-type {\n",
       "        vertical-align: middle;\n",
       "    }\n",
       "\n",
       "    .dataframe tbody tr th {\n",
       "        vertical-align: top;\n",
       "    }\n",
       "\n",
       "    .dataframe thead th {\n",
       "        text-align: right;\n",
       "    }\n",
       "</style>\n",
       "<table border=\"1\" class=\"dataframe\">\n",
       "  <thead>\n",
       "    <tr style=\"text-align: right;\">\n",
       "      <th></th>\n",
       "      <th>3</th>\n",
       "      <th>?</th>\n",
       "      <th>alfa-romero</th>\n",
       "      <th>gas</th>\n",
       "      <th>std</th>\n",
       "      <th>two</th>\n",
       "      <th>convertible</th>\n",
       "      <th>rwd</th>\n",
       "      <th>front</th>\n",
       "      <th>88.60</th>\n",
       "      <th>...</th>\n",
       "      <th>130</th>\n",
       "      <th>mpfi</th>\n",
       "      <th>3.47</th>\n",
       "      <th>2.68</th>\n",
       "      <th>9.00</th>\n",
       "      <th>111</th>\n",
       "      <th>5000</th>\n",
       "      <th>21</th>\n",
       "      <th>27</th>\n",
       "      <th>13495</th>\n",
       "    </tr>\n",
       "  </thead>\n",
       "  <tbody>\n",
       "    <tr>\n",
       "      <th>0</th>\n",
       "      <td>3</td>\n",
       "      <td>?</td>\n",
       "      <td>alfa-romero</td>\n",
       "      <td>gas</td>\n",
       "      <td>std</td>\n",
       "      <td>two</td>\n",
       "      <td>convertible</td>\n",
       "      <td>rwd</td>\n",
       "      <td>front</td>\n",
       "      <td>88.6</td>\n",
       "      <td>...</td>\n",
       "      <td>130</td>\n",
       "      <td>mpfi</td>\n",
       "      <td>3.47</td>\n",
       "      <td>2.68</td>\n",
       "      <td>9.0</td>\n",
       "      <td>111</td>\n",
       "      <td>5000</td>\n",
       "      <td>21</td>\n",
       "      <td>27</td>\n",
       "      <td>16500</td>\n",
       "    </tr>\n",
       "    <tr>\n",
       "      <th>1</th>\n",
       "      <td>1</td>\n",
       "      <td>?</td>\n",
       "      <td>alfa-romero</td>\n",
       "      <td>gas</td>\n",
       "      <td>std</td>\n",
       "      <td>two</td>\n",
       "      <td>hatchback</td>\n",
       "      <td>rwd</td>\n",
       "      <td>front</td>\n",
       "      <td>94.5</td>\n",
       "      <td>...</td>\n",
       "      <td>152</td>\n",
       "      <td>mpfi</td>\n",
       "      <td>2.68</td>\n",
       "      <td>3.47</td>\n",
       "      <td>9.0</td>\n",
       "      <td>154</td>\n",
       "      <td>5000</td>\n",
       "      <td>19</td>\n",
       "      <td>26</td>\n",
       "      <td>16500</td>\n",
       "    </tr>\n",
       "    <tr>\n",
       "      <th>2</th>\n",
       "      <td>2</td>\n",
       "      <td>164</td>\n",
       "      <td>audi</td>\n",
       "      <td>gas</td>\n",
       "      <td>std</td>\n",
       "      <td>four</td>\n",
       "      <td>sedan</td>\n",
       "      <td>fwd</td>\n",
       "      <td>front</td>\n",
       "      <td>99.8</td>\n",
       "      <td>...</td>\n",
       "      <td>109</td>\n",
       "      <td>mpfi</td>\n",
       "      <td>3.19</td>\n",
       "      <td>3.40</td>\n",
       "      <td>10.0</td>\n",
       "      <td>102</td>\n",
       "      <td>5500</td>\n",
       "      <td>24</td>\n",
       "      <td>30</td>\n",
       "      <td>13950</td>\n",
       "    </tr>\n",
       "    <tr>\n",
       "      <th>3</th>\n",
       "      <td>2</td>\n",
       "      <td>164</td>\n",
       "      <td>audi</td>\n",
       "      <td>gas</td>\n",
       "      <td>std</td>\n",
       "      <td>four</td>\n",
       "      <td>sedan</td>\n",
       "      <td>4wd</td>\n",
       "      <td>front</td>\n",
       "      <td>99.4</td>\n",
       "      <td>...</td>\n",
       "      <td>136</td>\n",
       "      <td>mpfi</td>\n",
       "      <td>3.19</td>\n",
       "      <td>3.40</td>\n",
       "      <td>8.0</td>\n",
       "      <td>115</td>\n",
       "      <td>5500</td>\n",
       "      <td>18</td>\n",
       "      <td>22</td>\n",
       "      <td>17450</td>\n",
       "    </tr>\n",
       "    <tr>\n",
       "      <th>4</th>\n",
       "      <td>2</td>\n",
       "      <td>?</td>\n",
       "      <td>audi</td>\n",
       "      <td>gas</td>\n",
       "      <td>std</td>\n",
       "      <td>two</td>\n",
       "      <td>sedan</td>\n",
       "      <td>fwd</td>\n",
       "      <td>front</td>\n",
       "      <td>99.8</td>\n",
       "      <td>...</td>\n",
       "      <td>136</td>\n",
       "      <td>mpfi</td>\n",
       "      <td>3.19</td>\n",
       "      <td>3.40</td>\n",
       "      <td>8.5</td>\n",
       "      <td>110</td>\n",
       "      <td>5500</td>\n",
       "      <td>19</td>\n",
       "      <td>25</td>\n",
       "      <td>15250</td>\n",
       "    </tr>\n",
       "  </tbody>\n",
       "</table>\n",
       "<p>5 rows × 26 columns</p>\n",
       "</div>"
      ],
      "text/plain": [
       "   3    ?  alfa-romero  gas  std   two  convertible  rwd  front  88.60  ...    \\\n",
       "0  3    ?  alfa-romero  gas  std   two  convertible  rwd  front   88.6  ...     \n",
       "1  1    ?  alfa-romero  gas  std   two    hatchback  rwd  front   94.5  ...     \n",
       "2  2  164         audi  gas  std  four        sedan  fwd  front   99.8  ...     \n",
       "3  2  164         audi  gas  std  four        sedan  4wd  front   99.4  ...     \n",
       "4  2    ?         audi  gas  std   two        sedan  fwd  front   99.8  ...     \n",
       "\n",
       "   130  mpfi  3.47  2.68  9.00  111  5000  21  27  13495  \n",
       "0  130  mpfi  3.47  2.68   9.0  111  5000  21  27  16500  \n",
       "1  152  mpfi  2.68  3.47   9.0  154  5000  19  26  16500  \n",
       "2  109  mpfi  3.19  3.40  10.0  102  5500  24  30  13950  \n",
       "3  136  mpfi  3.19  3.40   8.0  115  5500  18  22  17450  \n",
       "4  136  mpfi  3.19  3.40   8.5  110  5500  19  25  15250  \n",
       "\n",
       "[5 rows x 26 columns]"
      ]
     },
     "execution_count": 4,
     "metadata": {},
     "output_type": "execute_result"
    }
   ],
   "source": [
    "data.head()"
   ]
  },
  {
   "cell_type": "markdown",
   "metadata": {},
   "source": [
    "We realize that the data is stored in csv-format without the column names (the first record is use as column names which is of course wrong). The name of the columns can be found using the same link as above. We store them here in a python list and load the data again:"
   ]
  },
  {
   "cell_type": "code",
   "execution_count": 5,
   "metadata": {
    "collapsed": true
   },
   "outputs": [],
   "source": [
    "cols = ['symboling', 'normalized-losses', 'make', 'fuel-type', 'aspiration', 'num-of-doors', 'body-style', \n",
    "        'drive-wheels', 'engine-location', 'wheel-base', 'length', 'width', 'height', 'curb-weight', 'engine-type', \n",
    "        'num-of-cylinders', 'engine-size', 'fuel-system', 'bore', 'stroke', 'compression-rate', 'horsepower',\n",
    "        'peak-rpm', 'city-mpg', 'highway-mpg', 'price']\n",
    "\n",
    "data = pd.read_csv(r\"C:\\Repositories\\Predicting-Car-Proces\\data\\imports-85.data\", names=cols)"
   ]
  },
  {
   "cell_type": "code",
   "execution_count": 6,
   "metadata": {
    "collapsed": false
   },
   "outputs": [
    {
     "data": {
      "text/html": [
       "<div>\n",
       "<style scoped>\n",
       "    .dataframe tbody tr th:only-of-type {\n",
       "        vertical-align: middle;\n",
       "    }\n",
       "\n",
       "    .dataframe tbody tr th {\n",
       "        vertical-align: top;\n",
       "    }\n",
       "\n",
       "    .dataframe thead th {\n",
       "        text-align: right;\n",
       "    }\n",
       "</style>\n",
       "<table border=\"1\" class=\"dataframe\">\n",
       "  <thead>\n",
       "    <tr style=\"text-align: right;\">\n",
       "      <th></th>\n",
       "      <th>symboling</th>\n",
       "      <th>normalized-losses</th>\n",
       "      <th>make</th>\n",
       "      <th>fuel-type</th>\n",
       "      <th>aspiration</th>\n",
       "      <th>num-of-doors</th>\n",
       "      <th>body-style</th>\n",
       "      <th>drive-wheels</th>\n",
       "      <th>engine-location</th>\n",
       "      <th>wheel-base</th>\n",
       "      <th>...</th>\n",
       "      <th>engine-size</th>\n",
       "      <th>fuel-system</th>\n",
       "      <th>bore</th>\n",
       "      <th>stroke</th>\n",
       "      <th>compression-rate</th>\n",
       "      <th>horsepower</th>\n",
       "      <th>peak-rpm</th>\n",
       "      <th>city-mpg</th>\n",
       "      <th>highway-mpg</th>\n",
       "      <th>price</th>\n",
       "    </tr>\n",
       "  </thead>\n",
       "  <tbody>\n",
       "    <tr>\n",
       "      <th>0</th>\n",
       "      <td>3</td>\n",
       "      <td>?</td>\n",
       "      <td>alfa-romero</td>\n",
       "      <td>gas</td>\n",
       "      <td>std</td>\n",
       "      <td>two</td>\n",
       "      <td>convertible</td>\n",
       "      <td>rwd</td>\n",
       "      <td>front</td>\n",
       "      <td>88.6</td>\n",
       "      <td>...</td>\n",
       "      <td>130</td>\n",
       "      <td>mpfi</td>\n",
       "      <td>3.47</td>\n",
       "      <td>2.68</td>\n",
       "      <td>9.0</td>\n",
       "      <td>111</td>\n",
       "      <td>5000</td>\n",
       "      <td>21</td>\n",
       "      <td>27</td>\n",
       "      <td>13495</td>\n",
       "    </tr>\n",
       "    <tr>\n",
       "      <th>1</th>\n",
       "      <td>3</td>\n",
       "      <td>?</td>\n",
       "      <td>alfa-romero</td>\n",
       "      <td>gas</td>\n",
       "      <td>std</td>\n",
       "      <td>two</td>\n",
       "      <td>convertible</td>\n",
       "      <td>rwd</td>\n",
       "      <td>front</td>\n",
       "      <td>88.6</td>\n",
       "      <td>...</td>\n",
       "      <td>130</td>\n",
       "      <td>mpfi</td>\n",
       "      <td>3.47</td>\n",
       "      <td>2.68</td>\n",
       "      <td>9.0</td>\n",
       "      <td>111</td>\n",
       "      <td>5000</td>\n",
       "      <td>21</td>\n",
       "      <td>27</td>\n",
       "      <td>16500</td>\n",
       "    </tr>\n",
       "    <tr>\n",
       "      <th>2</th>\n",
       "      <td>1</td>\n",
       "      <td>?</td>\n",
       "      <td>alfa-romero</td>\n",
       "      <td>gas</td>\n",
       "      <td>std</td>\n",
       "      <td>two</td>\n",
       "      <td>hatchback</td>\n",
       "      <td>rwd</td>\n",
       "      <td>front</td>\n",
       "      <td>94.5</td>\n",
       "      <td>...</td>\n",
       "      <td>152</td>\n",
       "      <td>mpfi</td>\n",
       "      <td>2.68</td>\n",
       "      <td>3.47</td>\n",
       "      <td>9.0</td>\n",
       "      <td>154</td>\n",
       "      <td>5000</td>\n",
       "      <td>19</td>\n",
       "      <td>26</td>\n",
       "      <td>16500</td>\n",
       "    </tr>\n",
       "    <tr>\n",
       "      <th>3</th>\n",
       "      <td>2</td>\n",
       "      <td>164</td>\n",
       "      <td>audi</td>\n",
       "      <td>gas</td>\n",
       "      <td>std</td>\n",
       "      <td>four</td>\n",
       "      <td>sedan</td>\n",
       "      <td>fwd</td>\n",
       "      <td>front</td>\n",
       "      <td>99.8</td>\n",
       "      <td>...</td>\n",
       "      <td>109</td>\n",
       "      <td>mpfi</td>\n",
       "      <td>3.19</td>\n",
       "      <td>3.40</td>\n",
       "      <td>10.0</td>\n",
       "      <td>102</td>\n",
       "      <td>5500</td>\n",
       "      <td>24</td>\n",
       "      <td>30</td>\n",
       "      <td>13950</td>\n",
       "    </tr>\n",
       "    <tr>\n",
       "      <th>4</th>\n",
       "      <td>2</td>\n",
       "      <td>164</td>\n",
       "      <td>audi</td>\n",
       "      <td>gas</td>\n",
       "      <td>std</td>\n",
       "      <td>four</td>\n",
       "      <td>sedan</td>\n",
       "      <td>4wd</td>\n",
       "      <td>front</td>\n",
       "      <td>99.4</td>\n",
       "      <td>...</td>\n",
       "      <td>136</td>\n",
       "      <td>mpfi</td>\n",
       "      <td>3.19</td>\n",
       "      <td>3.40</td>\n",
       "      <td>8.0</td>\n",
       "      <td>115</td>\n",
       "      <td>5500</td>\n",
       "      <td>18</td>\n",
       "      <td>22</td>\n",
       "      <td>17450</td>\n",
       "    </tr>\n",
       "  </tbody>\n",
       "</table>\n",
       "<p>5 rows × 26 columns</p>\n",
       "</div>"
      ],
      "text/plain": [
       "   symboling normalized-losses         make fuel-type aspiration num-of-doors  \\\n",
       "0          3                 ?  alfa-romero       gas        std          two   \n",
       "1          3                 ?  alfa-romero       gas        std          two   \n",
       "2          1                 ?  alfa-romero       gas        std          two   \n",
       "3          2               164         audi       gas        std         four   \n",
       "4          2               164         audi       gas        std         four   \n",
       "\n",
       "    body-style drive-wheels engine-location  wheel-base  ...    engine-size  \\\n",
       "0  convertible          rwd           front        88.6  ...            130   \n",
       "1  convertible          rwd           front        88.6  ...            130   \n",
       "2    hatchback          rwd           front        94.5  ...            152   \n",
       "3        sedan          fwd           front        99.8  ...            109   \n",
       "4        sedan          4wd           front        99.4  ...            136   \n",
       "\n",
       "   fuel-system  bore  stroke compression-rate horsepower  peak-rpm city-mpg  \\\n",
       "0         mpfi  3.47    2.68              9.0        111      5000       21   \n",
       "1         mpfi  3.47    2.68              9.0        111      5000       21   \n",
       "2         mpfi  2.68    3.47              9.0        154      5000       19   \n",
       "3         mpfi  3.19    3.40             10.0        102      5500       24   \n",
       "4         mpfi  3.19    3.40              8.0        115      5500       18   \n",
       "\n",
       "  highway-mpg  price  \n",
       "0          27  13495  \n",
       "1          27  16500  \n",
       "2          26  16500  \n",
       "3          30  13950  \n",
       "4          22  17450  \n",
       "\n",
       "[5 rows x 26 columns]"
      ]
     },
     "execution_count": 6,
     "metadata": {},
     "output_type": "execute_result"
    }
   ],
   "source": [
    "data.head()"
   ]
  },
  {
   "cell_type": "markdown",
   "metadata": {},
   "source": [
    "Now we see that our data contains the correct column names. A detailed description of the dataset including a description of all the attributes can be found <a href =\"https://archive.ics.uci.edu/ml/datasets/automobile\"> here </a>. For example, the documentation of the dataset contains the information if an attribute is continuous. We will restrict our analysis to the continuous attributes, although it would be possible to extend the analysis to the non-continuous ones. The documentation tells us that the following attributes are continuous:"
   ]
  },
  {
   "cell_type": "code",
   "execution_count": 7,
   "metadata": {
    "collapsed": false
   },
   "outputs": [
    {
     "data": {
      "text/html": [
       "<div>\n",
       "<style scoped>\n",
       "    .dataframe tbody tr th:only-of-type {\n",
       "        vertical-align: middle;\n",
       "    }\n",
       "\n",
       "    .dataframe tbody tr th {\n",
       "        vertical-align: top;\n",
       "    }\n",
       "\n",
       "    .dataframe thead th {\n",
       "        text-align: right;\n",
       "    }\n",
       "</style>\n",
       "<table border=\"1\" class=\"dataframe\">\n",
       "  <thead>\n",
       "    <tr style=\"text-align: right;\">\n",
       "      <th></th>\n",
       "      <th>normalized-losses</th>\n",
       "      <th>wheel-base</th>\n",
       "      <th>length</th>\n",
       "      <th>width</th>\n",
       "      <th>height</th>\n",
       "      <th>curb-weight</th>\n",
       "      <th>bore</th>\n",
       "      <th>stroke</th>\n",
       "      <th>compression-rate</th>\n",
       "      <th>horsepower</th>\n",
       "      <th>peak-rpm</th>\n",
       "      <th>city-mpg</th>\n",
       "      <th>highway-mpg</th>\n",
       "      <th>price</th>\n",
       "    </tr>\n",
       "  </thead>\n",
       "  <tbody>\n",
       "    <tr>\n",
       "      <th>0</th>\n",
       "      <td>?</td>\n",
       "      <td>88.6</td>\n",
       "      <td>168.8</td>\n",
       "      <td>64.1</td>\n",
       "      <td>48.8</td>\n",
       "      <td>2548</td>\n",
       "      <td>3.47</td>\n",
       "      <td>2.68</td>\n",
       "      <td>9.0</td>\n",
       "      <td>111</td>\n",
       "      <td>5000</td>\n",
       "      <td>21</td>\n",
       "      <td>27</td>\n",
       "      <td>13495</td>\n",
       "    </tr>\n",
       "    <tr>\n",
       "      <th>1</th>\n",
       "      <td>?</td>\n",
       "      <td>88.6</td>\n",
       "      <td>168.8</td>\n",
       "      <td>64.1</td>\n",
       "      <td>48.8</td>\n",
       "      <td>2548</td>\n",
       "      <td>3.47</td>\n",
       "      <td>2.68</td>\n",
       "      <td>9.0</td>\n",
       "      <td>111</td>\n",
       "      <td>5000</td>\n",
       "      <td>21</td>\n",
       "      <td>27</td>\n",
       "      <td>16500</td>\n",
       "    </tr>\n",
       "    <tr>\n",
       "      <th>2</th>\n",
       "      <td>?</td>\n",
       "      <td>94.5</td>\n",
       "      <td>171.2</td>\n",
       "      <td>65.5</td>\n",
       "      <td>52.4</td>\n",
       "      <td>2823</td>\n",
       "      <td>2.68</td>\n",
       "      <td>3.47</td>\n",
       "      <td>9.0</td>\n",
       "      <td>154</td>\n",
       "      <td>5000</td>\n",
       "      <td>19</td>\n",
       "      <td>26</td>\n",
       "      <td>16500</td>\n",
       "    </tr>\n",
       "    <tr>\n",
       "      <th>3</th>\n",
       "      <td>164</td>\n",
       "      <td>99.8</td>\n",
       "      <td>176.6</td>\n",
       "      <td>66.2</td>\n",
       "      <td>54.3</td>\n",
       "      <td>2337</td>\n",
       "      <td>3.19</td>\n",
       "      <td>3.40</td>\n",
       "      <td>10.0</td>\n",
       "      <td>102</td>\n",
       "      <td>5500</td>\n",
       "      <td>24</td>\n",
       "      <td>30</td>\n",
       "      <td>13950</td>\n",
       "    </tr>\n",
       "    <tr>\n",
       "      <th>4</th>\n",
       "      <td>164</td>\n",
       "      <td>99.4</td>\n",
       "      <td>176.6</td>\n",
       "      <td>66.4</td>\n",
       "      <td>54.3</td>\n",
       "      <td>2824</td>\n",
       "      <td>3.19</td>\n",
       "      <td>3.40</td>\n",
       "      <td>8.0</td>\n",
       "      <td>115</td>\n",
       "      <td>5500</td>\n",
       "      <td>18</td>\n",
       "      <td>22</td>\n",
       "      <td>17450</td>\n",
       "    </tr>\n",
       "  </tbody>\n",
       "</table>\n",
       "</div>"
      ],
      "text/plain": [
       "  normalized-losses  wheel-base  length  width  height  curb-weight  bore  \\\n",
       "0                 ?        88.6   168.8   64.1    48.8         2548  3.47   \n",
       "1                 ?        88.6   168.8   64.1    48.8         2548  3.47   \n",
       "2                 ?        94.5   171.2   65.5    52.4         2823  2.68   \n",
       "3               164        99.8   176.6   66.2    54.3         2337  3.19   \n",
       "4               164        99.4   176.6   66.4    54.3         2824  3.19   \n",
       "\n",
       "  stroke  compression-rate horsepower peak-rpm  city-mpg  highway-mpg  price  \n",
       "0   2.68               9.0        111     5000        21           27  13495  \n",
       "1   2.68               9.0        111     5000        21           27  16500  \n",
       "2   3.47               9.0        154     5000        19           26  16500  \n",
       "3   3.40              10.0        102     5500        24           30  13950  \n",
       "4   3.40               8.0        115     5500        18           22  17450  "
      ]
     },
     "execution_count": 7,
     "metadata": {},
     "output_type": "execute_result"
    }
   ],
   "source": [
    "continuous_values_cols = ['normalized-losses', 'wheel-base', 'length', 'width', 'height',\n",
    "                          'curb-weight', 'bore', 'stroke', 'compression-rate', 'horsepower',\n",
    "                          'peak-rpm', 'city-mpg', 'highway-mpg', 'price']\n",
    "\n",
    "data = data[continuous_values_cols]\n",
    "data.head()"
   ]
  },
  {
   "cell_type": "markdown",
   "metadata": {},
   "source": [
    "Now the data contains only the continous variables. Our aim is to predict the 'price' attribute."
   ]
  },
  {
   "cell_type": "markdown",
   "metadata": {},
   "source": [
    "## Data Preparation"
   ]
  },
  {
   "cell_type": "markdown",
   "metadata": {},
   "source": [
    "If we want to use the data for machine learning, one of the first preparation steps consists of cleaning the data:"
   ]
  },
  {
   "cell_type": "markdown",
   "metadata": {},
   "source": [
    "### Data Cleaning"
   ]
  },
  {
   "cell_type": "markdown",
   "metadata": {},
   "source": [
    "We usually can't have any missing values in the data if we want to use them for predictive modeling. Based on the data set preview above, we can see that the normalized-losses column contains missing values represented using \"?\". Let's replace these values and look for the presence of missing values in other numeric columns."
   ]
  },
  {
   "cell_type": "code",
   "execution_count": 8,
   "metadata": {
    "collapsed": false
   },
   "outputs": [
    {
     "data": {
      "text/html": [
       "<div>\n",
       "<style scoped>\n",
       "    .dataframe tbody tr th:only-of-type {\n",
       "        vertical-align: middle;\n",
       "    }\n",
       "\n",
       "    .dataframe tbody tr th {\n",
       "        vertical-align: top;\n",
       "    }\n",
       "\n",
       "    .dataframe thead th {\n",
       "        text-align: right;\n",
       "    }\n",
       "</style>\n",
       "<table border=\"1\" class=\"dataframe\">\n",
       "  <thead>\n",
       "    <tr style=\"text-align: right;\">\n",
       "      <th></th>\n",
       "      <th>normalized-losses</th>\n",
       "      <th>wheel-base</th>\n",
       "      <th>length</th>\n",
       "      <th>width</th>\n",
       "      <th>height</th>\n",
       "      <th>curb-weight</th>\n",
       "      <th>bore</th>\n",
       "      <th>stroke</th>\n",
       "      <th>compression-rate</th>\n",
       "      <th>horsepower</th>\n",
       "      <th>peak-rpm</th>\n",
       "      <th>city-mpg</th>\n",
       "      <th>highway-mpg</th>\n",
       "      <th>price</th>\n",
       "    </tr>\n",
       "  </thead>\n",
       "  <tbody>\n",
       "    <tr>\n",
       "      <th>0</th>\n",
       "      <td>NaN</td>\n",
       "      <td>88.6</td>\n",
       "      <td>168.8</td>\n",
       "      <td>64.1</td>\n",
       "      <td>48.8</td>\n",
       "      <td>2548</td>\n",
       "      <td>3.47</td>\n",
       "      <td>2.68</td>\n",
       "      <td>9.0</td>\n",
       "      <td>111</td>\n",
       "      <td>5000</td>\n",
       "      <td>21</td>\n",
       "      <td>27</td>\n",
       "      <td>13495</td>\n",
       "    </tr>\n",
       "    <tr>\n",
       "      <th>1</th>\n",
       "      <td>NaN</td>\n",
       "      <td>88.6</td>\n",
       "      <td>168.8</td>\n",
       "      <td>64.1</td>\n",
       "      <td>48.8</td>\n",
       "      <td>2548</td>\n",
       "      <td>3.47</td>\n",
       "      <td>2.68</td>\n",
       "      <td>9.0</td>\n",
       "      <td>111</td>\n",
       "      <td>5000</td>\n",
       "      <td>21</td>\n",
       "      <td>27</td>\n",
       "      <td>16500</td>\n",
       "    </tr>\n",
       "    <tr>\n",
       "      <th>2</th>\n",
       "      <td>NaN</td>\n",
       "      <td>94.5</td>\n",
       "      <td>171.2</td>\n",
       "      <td>65.5</td>\n",
       "      <td>52.4</td>\n",
       "      <td>2823</td>\n",
       "      <td>2.68</td>\n",
       "      <td>3.47</td>\n",
       "      <td>9.0</td>\n",
       "      <td>154</td>\n",
       "      <td>5000</td>\n",
       "      <td>19</td>\n",
       "      <td>26</td>\n",
       "      <td>16500</td>\n",
       "    </tr>\n",
       "    <tr>\n",
       "      <th>3</th>\n",
       "      <td>164</td>\n",
       "      <td>99.8</td>\n",
       "      <td>176.6</td>\n",
       "      <td>66.2</td>\n",
       "      <td>54.3</td>\n",
       "      <td>2337</td>\n",
       "      <td>3.19</td>\n",
       "      <td>3.40</td>\n",
       "      <td>10.0</td>\n",
       "      <td>102</td>\n",
       "      <td>5500</td>\n",
       "      <td>24</td>\n",
       "      <td>30</td>\n",
       "      <td>13950</td>\n",
       "    </tr>\n",
       "    <tr>\n",
       "      <th>4</th>\n",
       "      <td>164</td>\n",
       "      <td>99.4</td>\n",
       "      <td>176.6</td>\n",
       "      <td>66.4</td>\n",
       "      <td>54.3</td>\n",
       "      <td>2824</td>\n",
       "      <td>3.19</td>\n",
       "      <td>3.40</td>\n",
       "      <td>8.0</td>\n",
       "      <td>115</td>\n",
       "      <td>5500</td>\n",
       "      <td>18</td>\n",
       "      <td>22</td>\n",
       "      <td>17450</td>\n",
       "    </tr>\n",
       "  </tbody>\n",
       "</table>\n",
       "</div>"
      ],
      "text/plain": [
       "  normalized-losses  wheel-base  length  width  height  curb-weight  bore  \\\n",
       "0               NaN        88.6   168.8   64.1    48.8         2548  3.47   \n",
       "1               NaN        88.6   168.8   64.1    48.8         2548  3.47   \n",
       "2               NaN        94.5   171.2   65.5    52.4         2823  2.68   \n",
       "3               164        99.8   176.6   66.2    54.3         2337  3.19   \n",
       "4               164        99.4   176.6   66.4    54.3         2824  3.19   \n",
       "\n",
       "  stroke  compression-rate horsepower peak-rpm  city-mpg  highway-mpg  price  \n",
       "0   2.68               9.0        111     5000        21           27  13495  \n",
       "1   2.68               9.0        111     5000        21           27  16500  \n",
       "2   3.47               9.0        154     5000        19           26  16500  \n",
       "3   3.40              10.0        102     5500        24           30  13950  \n",
       "4   3.40               8.0        115     5500        18           22  17450  "
      ]
     },
     "execution_count": 8,
     "metadata": {},
     "output_type": "execute_result"
    }
   ],
   "source": [
    "data = data.replace('?', np.nan)\n",
    "data.head()"
   ]
  },
  {
   "cell_type": "markdown",
   "metadata": {},
   "source": [
    "Because ? is of string type, columns containing this value were cast to the pandas object data type (instead of a numeric type like int or float). After replacing the ? values, let us cast the columns to float type and check if other mising values exists in other columns:"
   ]
  },
  {
   "cell_type": "code",
   "execution_count": 9,
   "metadata": {
    "collapsed": false
   },
   "outputs": [
    {
     "data": {
      "text/plain": [
       "normalized-losses    41\n",
       "wheel-base            0\n",
       "length                0\n",
       "width                 0\n",
       "height                0\n",
       "curb-weight           0\n",
       "bore                  4\n",
       "stroke                4\n",
       "compression-rate      0\n",
       "horsepower            2\n",
       "peak-rpm              2\n",
       "city-mpg              0\n",
       "highway-mpg           0\n",
       "price                 4\n",
       "dtype: int64"
      ]
     },
     "execution_count": 9,
     "metadata": {},
     "output_type": "execute_result"
    }
   ],
   "source": [
    "data = data.astype('float')\n",
    "data.isnull().sum()"
   ]
  },
  {
   "cell_type": "markdown",
   "metadata": {},
   "source": [
    "We see that the columns normalized-loss, bore, stroke, horsepower, peak-rpm and price contain missing values.  \n",
    "Because price is the column we want to predict, let's remove any rows with missing price values:"
   ]
  },
  {
   "cell_type": "code",
   "execution_count": 10,
   "metadata": {
    "collapsed": false
   },
   "outputs": [
    {
     "data": {
      "text/plain": [
       "normalized-losses    37\n",
       "wheel-base            0\n",
       "length                0\n",
       "width                 0\n",
       "height                0\n",
       "curb-weight           0\n",
       "bore                  4\n",
       "stroke                4\n",
       "compression-rate      0\n",
       "horsepower            2\n",
       "peak-rpm              2\n",
       "city-mpg              0\n",
       "highway-mpg           0\n",
       "price                 0\n",
       "dtype: int64"
      ]
     },
     "execution_count": 10,
     "metadata": {},
     "output_type": "execute_result"
    }
   ],
   "source": [
    "data = data.dropna(subset=['price'])\n",
    "data.isnull().sum()"
   ]
  },
  {
   "cell_type": "markdown",
   "metadata": {},
   "source": [
    "We need to come up with a strategy to deal with the remaining missing values in other columns. The choice we made is replacing missing values in other columns using column means:"
   ]
  },
  {
   "cell_type": "code",
   "execution_count": 11,
   "metadata": {
    "collapsed": false
   },
   "outputs": [],
   "source": [
    "data = data.fillna(data.mean())"
   ]
  },
  {
   "cell_type": "markdown",
   "metadata": {},
   "source": [
    "Let use check if there are indeed no missing values anymore:"
   ]
  },
  {
   "cell_type": "code",
   "execution_count": 12,
   "metadata": {
    "collapsed": false
   },
   "outputs": [
    {
     "data": {
      "text/plain": [
       "normalized-losses    0\n",
       "wheel-base           0\n",
       "length               0\n",
       "width                0\n",
       "height               0\n",
       "curb-weight          0\n",
       "bore                 0\n",
       "stroke               0\n",
       "compression-rate     0\n",
       "horsepower           0\n",
       "peak-rpm             0\n",
       "city-mpg             0\n",
       "highway-mpg          0\n",
       "price                0\n",
       "dtype: int64"
      ]
     },
     "execution_count": 12,
     "metadata": {},
     "output_type": "execute_result"
    }
   ],
   "source": [
    "data.isnull().sum()"
   ]
  },
  {
   "cell_type": "markdown",
   "metadata": {},
   "source": [
    "### Feature Scaling\n",
    "As the last data preparation step, we normalize all the features in such a way that they are between 0 and 1:"
   ]
  },
  {
   "cell_type": "code",
   "execution_count": 13,
   "metadata": {
    "collapsed": false
   },
   "outputs": [
    {
     "data": {
      "text/html": [
       "<div>\n",
       "<style scoped>\n",
       "    .dataframe tbody tr th:only-of-type {\n",
       "        vertical-align: middle;\n",
       "    }\n",
       "\n",
       "    .dataframe tbody tr th {\n",
       "        vertical-align: top;\n",
       "    }\n",
       "\n",
       "    .dataframe thead th {\n",
       "        text-align: right;\n",
       "    }\n",
       "</style>\n",
       "<table border=\"1\" class=\"dataframe\">\n",
       "  <thead>\n",
       "    <tr style=\"text-align: right;\">\n",
       "      <th></th>\n",
       "      <th>normalized-losses</th>\n",
       "      <th>wheel-base</th>\n",
       "      <th>length</th>\n",
       "      <th>width</th>\n",
       "      <th>height</th>\n",
       "      <th>curb-weight</th>\n",
       "      <th>bore</th>\n",
       "      <th>stroke</th>\n",
       "      <th>compression-rate</th>\n",
       "      <th>horsepower</th>\n",
       "      <th>peak-rpm</th>\n",
       "      <th>city-mpg</th>\n",
       "      <th>highway-mpg</th>\n",
       "      <th>price</th>\n",
       "    </tr>\n",
       "  </thead>\n",
       "  <tbody>\n",
       "    <tr>\n",
       "      <th>count</th>\n",
       "      <td>201.000000</td>\n",
       "      <td>201.000000</td>\n",
       "      <td>201.000000</td>\n",
       "      <td>201.000000</td>\n",
       "      <td>201.000000</td>\n",
       "      <td>201.000000</td>\n",
       "      <td>201.000000</td>\n",
       "      <td>201.000000</td>\n",
       "      <td>201.000000</td>\n",
       "      <td>201.000000</td>\n",
       "      <td>201.000000</td>\n",
       "      <td>201.000000</td>\n",
       "      <td>201.000000</td>\n",
       "      <td>201.000000</td>\n",
       "    </tr>\n",
       "    <tr>\n",
       "      <th>mean</th>\n",
       "      <td>0.298429</td>\n",
       "      <td>0.355598</td>\n",
       "      <td>0.494045</td>\n",
       "      <td>0.477697</td>\n",
       "      <td>0.497222</td>\n",
       "      <td>0.414145</td>\n",
       "      <td>0.564793</td>\n",
       "      <td>0.565192</td>\n",
       "      <td>0.197767</td>\n",
       "      <td>0.258864</td>\n",
       "      <td>0.394934</td>\n",
       "      <td>0.338308</td>\n",
       "      <td>0.386489</td>\n",
       "      <td>13207.129353</td>\n",
       "    </tr>\n",
       "    <tr>\n",
       "      <th>std</th>\n",
       "      <td>0.167520</td>\n",
       "      <td>0.176862</td>\n",
       "      <td>0.183913</td>\n",
       "      <td>0.179613</td>\n",
       "      <td>0.203985</td>\n",
       "      <td>0.200658</td>\n",
       "      <td>0.191480</td>\n",
       "      <td>0.150499</td>\n",
       "      <td>0.250310</td>\n",
       "      <td>0.174606</td>\n",
       "      <td>0.195148</td>\n",
       "      <td>0.178423</td>\n",
       "      <td>0.179346</td>\n",
       "      <td>7947.066342</td>\n",
       "    </tr>\n",
       "    <tr>\n",
       "      <th>min</th>\n",
       "      <td>0.000000</td>\n",
       "      <td>0.000000</td>\n",
       "      <td>0.000000</td>\n",
       "      <td>0.000000</td>\n",
       "      <td>0.000000</td>\n",
       "      <td>0.000000</td>\n",
       "      <td>0.000000</td>\n",
       "      <td>0.000000</td>\n",
       "      <td>0.000000</td>\n",
       "      <td>0.000000</td>\n",
       "      <td>0.000000</td>\n",
       "      <td>0.000000</td>\n",
       "      <td>0.000000</td>\n",
       "      <td>5118.000000</td>\n",
       "    </tr>\n",
       "    <tr>\n",
       "      <th>25%</th>\n",
       "      <td>0.188482</td>\n",
       "      <td>0.230321</td>\n",
       "      <td>0.383582</td>\n",
       "      <td>0.324786</td>\n",
       "      <td>0.350000</td>\n",
       "      <td>0.264158</td>\n",
       "      <td>0.435714</td>\n",
       "      <td>0.495238</td>\n",
       "      <td>0.100000</td>\n",
       "      <td>0.102804</td>\n",
       "      <td>0.265306</td>\n",
       "      <td>0.166667</td>\n",
       "      <td>0.236842</td>\n",
       "      <td>7775.000000</td>\n",
       "    </tr>\n",
       "    <tr>\n",
       "      <th>50%</th>\n",
       "      <td>0.298429</td>\n",
       "      <td>0.303207</td>\n",
       "      <td>0.479104</td>\n",
       "      <td>0.444444</td>\n",
       "      <td>0.525000</td>\n",
       "      <td>0.359193</td>\n",
       "      <td>0.550000</td>\n",
       "      <td>0.580952</td>\n",
       "      <td>0.125000</td>\n",
       "      <td>0.219626</td>\n",
       "      <td>0.394934</td>\n",
       "      <td>0.305556</td>\n",
       "      <td>0.368421</td>\n",
       "      <td>10295.000000</td>\n",
       "    </tr>\n",
       "    <tr>\n",
       "      <th>75%</th>\n",
       "      <td>0.376963</td>\n",
       "      <td>0.460641</td>\n",
       "      <td>0.632836</td>\n",
       "      <td>0.538462</td>\n",
       "      <td>0.641667</td>\n",
       "      <td>0.557797</td>\n",
       "      <td>0.742857</td>\n",
       "      <td>0.638095</td>\n",
       "      <td>0.150000</td>\n",
       "      <td>0.317757</td>\n",
       "      <td>0.551020</td>\n",
       "      <td>0.472222</td>\n",
       "      <td>0.473684</td>\n",
       "      <td>16500.000000</td>\n",
       "    </tr>\n",
       "    <tr>\n",
       "      <th>max</th>\n",
       "      <td>1.000000</td>\n",
       "      <td>1.000000</td>\n",
       "      <td>1.000000</td>\n",
       "      <td>1.000000</td>\n",
       "      <td>1.000000</td>\n",
       "      <td>1.000000</td>\n",
       "      <td>1.000000</td>\n",
       "      <td>1.000000</td>\n",
       "      <td>1.000000</td>\n",
       "      <td>1.000000</td>\n",
       "      <td>1.000000</td>\n",
       "      <td>1.000000</td>\n",
       "      <td>1.000000</td>\n",
       "      <td>45400.000000</td>\n",
       "    </tr>\n",
       "  </tbody>\n",
       "</table>\n",
       "</div>"
      ],
      "text/plain": [
       "       normalized-losses  wheel-base      length       width      height  \\\n",
       "count         201.000000  201.000000  201.000000  201.000000  201.000000   \n",
       "mean            0.298429    0.355598    0.494045    0.477697    0.497222   \n",
       "std             0.167520    0.176862    0.183913    0.179613    0.203985   \n",
       "min             0.000000    0.000000    0.000000    0.000000    0.000000   \n",
       "25%             0.188482    0.230321    0.383582    0.324786    0.350000   \n",
       "50%             0.298429    0.303207    0.479104    0.444444    0.525000   \n",
       "75%             0.376963    0.460641    0.632836    0.538462    0.641667   \n",
       "max             1.000000    1.000000    1.000000    1.000000    1.000000   \n",
       "\n",
       "       curb-weight        bore      stroke  compression-rate  horsepower  \\\n",
       "count   201.000000  201.000000  201.000000        201.000000  201.000000   \n",
       "mean      0.414145    0.564793    0.565192          0.197767    0.258864   \n",
       "std       0.200658    0.191480    0.150499          0.250310    0.174606   \n",
       "min       0.000000    0.000000    0.000000          0.000000    0.000000   \n",
       "25%       0.264158    0.435714    0.495238          0.100000    0.102804   \n",
       "50%       0.359193    0.550000    0.580952          0.125000    0.219626   \n",
       "75%       0.557797    0.742857    0.638095          0.150000    0.317757   \n",
       "max       1.000000    1.000000    1.000000          1.000000    1.000000   \n",
       "\n",
       "         peak-rpm    city-mpg  highway-mpg         price  \n",
       "count  201.000000  201.000000   201.000000    201.000000  \n",
       "mean     0.394934    0.338308     0.386489  13207.129353  \n",
       "std      0.195148    0.178423     0.179346   7947.066342  \n",
       "min      0.000000    0.000000     0.000000   5118.000000  \n",
       "25%      0.265306    0.166667     0.236842   7775.000000  \n",
       "50%      0.394934    0.305556     0.368421  10295.000000  \n",
       "75%      0.551020    0.472222     0.473684  16500.000000  \n",
       "max      1.000000    1.000000     1.000000  45400.000000  "
      ]
     },
     "execution_count": 13,
     "metadata": {},
     "output_type": "execute_result"
    }
   ],
   "source": [
    "target = data['price']\n",
    "data = (data - data.min())/(data.max() - data.min())\n",
    "data['price'] = target\n",
    "data.describe()"
   ]
  },
  {
   "cell_type": "markdown",
   "metadata": {},
   "source": [
    "## Modelling"
   ]
  },
  {
   "cell_type": "markdown",
   "metadata": {},
   "source": [
    "Now that we have cleaned the data, defined the features and the target, we can start with the modelling. Since the first two business questions are dealing with how certain features are related with the price (namely the features horsepower and length of the car), we start with univariate models. We start with some univariate k-nearest neighbors models. The training will be encapsulated in a function:"
   ]
  },
  {
   "cell_type": "code",
   "execution_count": 14,
   "metadata": {
    "collapsed": true
   },
   "outputs": [],
   "source": [
    "from sklearn.neighbors import KNeighborsRegressor\n",
    "from sklearn.metrics import mean_squared_error, r2_score\n",
    "\n",
    "def knn_train_test(train_col, target_col, data):\n",
    "    \"\"\" Used 50% of the data to train a knn-mmodel and computes\n",
    "        the r2 score based on the remaining 50% of the data\n",
    "    Args:\n",
    "        train_col(str): name of the column which should be used as feature\n",
    "        target_col(str): name of the target column which should be predicted\n",
    "        data(obj): pandas dataframe which contains the data\n",
    "    Returns:\n",
    "        r2(float): r2 score\n",
    "    \"\"\"\n",
    "    \n",
    "    # initialize knn regressor\n",
    "    knn = KNeighborsRegressor()\n",
    "    np.random.seed(41)\n",
    "        \n",
    "    # Permute the order in the data\n",
    "    shuffled_index = np.random.permutation(data.index)\n",
    "    rand_data = data.reindex(shuffled_index)\n",
    "\n",
    "    # Define first half of the data\n",
    "    last_train_row = int(len(rand_data) / 2)\n",
    "    \n",
    "    # Select the first half and set as training set\n",
    "    # Select the second half and set as test set\n",
    "    train_data = rand_data.iloc[0:last_train_row]\n",
    "    test_data = rand_data.iloc[last_train_row:]\n",
    "    \n",
    "    # Fit a KNN model using the default k value\n",
    "    knn.fit(train_data[[train_col]], train_data[target_col])\n",
    "    \n",
    "    # Make predictions using model\n",
    "    prediction = knn.predict(test_data[[train_col]])\n",
    "    \n",
    "    # Calculate r2 score\n",
    "    r2 = r2_score(test_data[target_col], prediction)\n",
    "\n",
    "    return r2\n"
   ]
  },
  {
   "cell_type": "markdown",
   "metadata": {},
   "source": [
    "Now we can use the above function to train a knn model for each feature seperate and collect the results:"
   ]
  },
  {
   "cell_type": "code",
   "execution_count": 15,
   "metadata": {
    "collapsed": false
   },
   "outputs": [
    {
     "data": {
      "text/plain": [
       "horsepower           0.761284\n",
       "highway-mpg          0.695403\n",
       "city-mpg             0.668424\n",
       "curb-weight          0.627654\n",
       "width                0.542221\n",
       "length               0.500840\n",
       "wheel-base           0.293620\n",
       "bore                 0.248743\n",
       "compression-rate     0.244536\n",
       "normalized-losses    0.181538\n",
       "stroke               0.049243\n",
       "peak-rpm             0.001608\n",
       "height              -0.046938\n",
       "dtype: float64"
      ]
     },
     "execution_count": 15,
     "metadata": {},
     "output_type": "execute_result"
    }
   ],
   "source": [
    "rmse_results = dict()\n",
    "train_cols = data.columns.drop('price')\n",
    "\n",
    "# For each column (without price), train a model, return RMSE value\n",
    "# and add to the dictionary rmse_results.\n",
    "for col in train_cols:\n",
    "    rmse_val = knn_train_test(col, 'price', data)\n",
    "    rmse_results[col] = rmse_val\n",
    "\n",
    "# Create a Series object from the dictionary so \n",
    "# we can easily view the results, sort, etc\n",
    "rmse_results_series = pd.Series(rmse_results)\n",
    "rmse_results_series.sort_values(ascending=False)"
   ]
  },
  {
   "cell_type": "markdown",
   "metadata": {},
   "source": [
    "### Evaluation"
   ]
  },
  {
   "cell_type": "markdown",
   "metadata": {},
   "source": [
    "At this point, we can already start to discuss the first two business question. We see that the feature horsepower explains most of the variability in the data since it has the highest r2-score. Hence, we can for sure say that horsepower is related to the price of a car. \n",
    "\n",
    "The length, on the other hand, does not play such a big role in explaining the price but  \n",
    "it is still in the upper half of features which are orderer w.r.t. r2-score. Let us also compute some correlations and display some scatterplots:"
   ]
  },
  {
   "cell_type": "code",
   "execution_count": 34,
   "metadata": {
    "collapsed": false
   },
   "outputs": [
    {
     "data": {
      "text/plain": [
       "<matplotlib.text.Text at 0x21cf07518d0>"
      ]
     },
     "execution_count": 34,
     "metadata": {},
     "output_type": "execute_result"
    },
    {
     "data": {
      "image/png": "[encoded data removed]",
      "text/plain": [
       "<matplotlib.figure.Figure at 0x21cf0568ba8>"
      ]
     },
     "metadata": {},
     "output_type": "display_data"
    }
   ],
   "source": [
    "import matplotlib.pyplot as plt\n",
    "%matplotlib inline\n",
    "\n",
    "np.corrcoef(data['price'], data['horsepower'])\n",
    "plt.scatter(data['horsepower'], data['price'])\n",
    "plt.xlabel(\"horsepower\")\n",
    "plt.ylabel(\"price\")\n",
    "plt.title(\"Price vs Horsepower\")"
   ]
  },
  {
   "cell_type": "code",
   "execution_count": 37,
   "metadata": {
    "collapsed": false
   },
   "outputs": [
    {
     "data": {
      "text/plain": [
       "<matplotlib.text.Text at 0x21cf087e7f0>"
      ]
     },
     "execution_count": 37,
     "metadata": {},
     "output_type": "execute_result"
    },
    {
     "data": {
      "image/png": "[encoded data removed]",
      "text/plain": [
       "<matplotlib.figure.Figure at 0x21cf0834828>"
      ]
     },
     "metadata": {},
     "output_type": "display_data"
    }
   ],
   "source": [
    "import matplotlib.pyplot as plt\n",
    "%matplotlib inline\n",
    "\n",
    "np.corrcoef(data['price'], data['length'])\n",
    "plt.scatter(data['length'], data['price'])\n",
    "plt.xlabel(\"length\")\n",
    "plt.ylabel(\"price\")\n",
    "plt.title(\"Price vs Length\")"
   ]
  },
  {
   "cell_type": "markdown",
   "metadata": {},
   "source": [
    "### Refinements"
   ]
  },
  {
   "cell_type": "markdown",
   "metadata": {},
   "source": [
    "Let us analyze the model behaves w.r.t. the hyperparameter k. For that reason, we modify the above function by including a list of different k values as parameter:"
   ]
  },
  {
   "cell_type": "code",
   "execution_count": 17,
   "metadata": {
    "collapsed": true
   },
   "outputs": [],
   "source": [
    "def knn_train_test_with_k(train_col, target_col, data, lst_k_values):\n",
    "    \"\"\"Same as the function knn_train_test above but trains the model with \n",
    "       different k-values\n",
    "       \n",
    "       Args:\n",
    "        train_col(str): name of the column which should be used as feature\n",
    "        target_col(str): name of the target column which should be predicted\n",
    "        data(obj): pandas dataframe which contains the data\n",
    "        lst_k_values(obj): list of different k-values\n",
    "        \n",
    "    Returns:\n",
    "        k_r2(obj): dictionary where the keys are the k-values and the values are the corresponding r2-score\n",
    "    \n",
    "    \"\"\"\n",
    "    \n",
    "    np.random.seed(41)\n",
    "        \n",
    "    shuffled_index = np.random.permutation(data.index)\n",
    "    rand_data = data.reindex(shuffled_index)\n",
    "\n",
    "    last_train_row = int(len(rand_data) / 2)\n",
    "    \n",
    "    train_data = rand_data.iloc[0:last_train_row]\n",
    "    test_data = rand_data.iloc[last_train_row:]\n",
    "    \n",
    "    k_r2 = {}\n",
    "    \n",
    "    for k in lst_k_values:\n",
    "        # Fit model using k nearest neighbors\n",
    "        knn = KNeighborsRegressor(n_neighbors=k)\n",
    "        knn.fit(train_data[[train_col]], train_data[target_col])\n",
    "\n",
    "        # Make predictions using model with parameter k\n",
    "        predicted_labels = knn.predict(test_data[[train_col]])\n",
    "\n",
    "        # Calculate and return r2 score\n",
    "        r2 = r2_score(test_data[target_col], predicted_labels)\n",
    "        \n",
    "        k_r2[k] = r2\n",
    "        \n",
    "    return k_r2\n"
   ]
  },
  {
   "cell_type": "markdown",
   "metadata": {},
   "source": [
    "As above, let us use this function to train a model for every single feature but now for different k-values (we choose the values k = 1,3,5,7,9,11,13,15,20):"
   ]
  },
  {
   "cell_type": "code",
   "execution_count": 18,
   "metadata": {
    "collapsed": false
   },
   "outputs": [
    {
     "data": {
      "text/plain": [
       "{'bore': {1: 0.23293061869426546,\n",
       "  3: 0.2918144896891518,\n",
       "  5: 0.24874273417857606,\n",
       "  7: 0.26516957585328882,\n",
       "  9: 0.36444487352430532,\n",
       "  11: 0.36670690168638365,\n",
       "  13: 0.34030771479121713,\n",
       "  15: 0.28865395051092879,\n",
       "  20: 0.27386624540756632},\n",
       " 'city-mpg': {1: 0.64508632602457205,\n",
       "  3: 0.67083180919862384,\n",
       "  5: 0.66842441190057289,\n",
       "  7: 0.61298195745433492,\n",
       "  9: 0.60191642980582616,\n",
       "  11: 0.60099251058497327,\n",
       "  13: 0.61098634039492361,\n",
       "  15: 0.5849554577391467,\n",
       "  20: 0.55544906914855929},\n",
       " 'compression-rate': {1: 0.12400206165224748,\n",
       "  3: 0.36354890008040386,\n",
       "  5: 0.24453644015304088,\n",
       "  7: 0.16878988386183369,\n",
       "  9: 0.11544680405161034,\n",
       "  11: 0.022813395056484609,\n",
       "  13: -0.012994180381237008,\n",
       "  15: 0.0026816296142917473,\n",
       "  20: 0.028819341490647687},\n",
       " 'curb-weight': {1: 0.43443176012616169,\n",
       "  3: 0.55413649954387156,\n",
       "  5: 0.6276543235169999,\n",
       "  7: 0.64581190334913086,\n",
       "  9: 0.63742803118721314,\n",
       "  11: 0.61841123343934301,\n",
       "  13: 0.61003099152111917,\n",
       "  15: 0.58790796392351186,\n",
       "  20: 0.58026635012800531},\n",
       " 'height': {1: -0.34750232697831507,\n",
       "  3: 0.012670204039874844,\n",
       "  5: -0.046938163034020874,\n",
       "  7: 0.015282983353519075,\n",
       "  9: 0.021379205655576827,\n",
       "  11: -0.041936315502653532,\n",
       "  13: -0.060119408003041386,\n",
       "  15: -0.0445003798244612,\n",
       "  20: -0.047897181056612892},\n",
       " 'highway-mpg': {1: 0.5552104902091517,\n",
       "  3: 0.7002064962010035,\n",
       "  5: 0.69540334084220956,\n",
       "  7: 0.67800408505026954,\n",
       "  9: 0.6668544550377844,\n",
       "  11: 0.63396385565524538,\n",
       "  13: 0.59267903728121585,\n",
       "  15: 0.56536908544983433,\n",
       "  20: 0.53009896576175564},\n",
       " 'horsepower': {1: 0.60827936731316545,\n",
       "  3: 0.76514096539287435,\n",
       "  5: 0.76128386362486211,\n",
       "  7: 0.73134867322787489,\n",
       "  9: 0.69043046747111203,\n",
       "  11: 0.66545233869137554,\n",
       "  13: 0.62840182935190048,\n",
       "  15: 0.61457249974680273,\n",
       "  20: 0.57565928466787031},\n",
       " 'length': {1: 0.44811624375935755,\n",
       "  3: 0.47755642151821065,\n",
       "  5: 0.50083983790780129,\n",
       "  7: 0.44942740067086928,\n",
       "  9: 0.41580775298687511,\n",
       "  11: 0.3978756122950492,\n",
       "  13: 0.39996423093994959,\n",
       "  15: 0.38739733617824712,\n",
       "  20: 0.37413863874573872},\n",
       " 'normalized-losses': {1: -0.20347877150311544,\n",
       "  3: 0.17182725146471145,\n",
       "  5: 0.18153843512468892,\n",
       "  7: 0.10083702893110358,\n",
       "  9: 0.18236250939582299,\n",
       "  11: 0.18031169148017767,\n",
       "  13: 0.16974371713072933,\n",
       "  15: 0.13417736392033419,\n",
       "  20: 0.066782687810520103},\n",
       " 'peak-rpm': {1: -0.091713851897070597,\n",
       "  3: -0.06944703003948538,\n",
       "  5: 0.0016078100318174249,\n",
       "  7: -0.021567274731437269,\n",
       "  9: -0.048614667563709357,\n",
       "  11: -0.069489150376928599,\n",
       "  13: -0.025762258400936044,\n",
       "  15: -0.051196545345471689,\n",
       "  20: -0.068046774242657371},\n",
       " 'stroke': {1: -0.0095577913109194945,\n",
       "  3: 0.17098084694098215,\n",
       "  5: 0.049243335637251695,\n",
       "  7: 0.023151602905364332,\n",
       "  9: 0.092389772284490856,\n",
       "  11: 0.072364145488281295,\n",
       "  13: 0.1100917046465093,\n",
       "  15: 0.094123631200753621,\n",
       "  20: 0.048814883217682792},\n",
       " 'wheel-base': {1: 0.59018954703910187,\n",
       "  3: 0.3446114130407425,\n",
       "  5: 0.29361993510864925,\n",
       "  7: 0.25849269186507307,\n",
       "  9: 0.24116785925974116,\n",
       "  11: 0.24114994276012669,\n",
       "  13: 0.21732985177662112,\n",
       "  15: 0.22993509426628334,\n",
       "  20: 0.21530706065441718},\n",
       " 'width': {1: 0.71389785481283208,\n",
       "  3: 0.59178728939521952,\n",
       "  5: 0.54222110991524919,\n",
       "  7: 0.50874791048322265,\n",
       "  9: 0.49400488832784184,\n",
       "  11: 0.49544659225107635,\n",
       "  13: 0.4748648828312273,\n",
       "  15: 0.46589314269340854,\n",
       "  20: 0.41813624938679239}}"
      ]
     },
     "execution_count": 18,
     "metadata": {},
     "output_type": "execute_result"
    }
   ],
   "source": [
    "k_r2_results = {}\n",
    "\n",
    "train_cols = data.columns.drop('price')\n",
    "for col in train_cols:\n",
    "    r2_val = knn_train_test_with_k(col, 'price', data, lst_k_values=[1,3,5,7,9,11,13,15,20])\n",
    "    k_r2_results[col] = r2_val\n",
    "\n",
    "k_r2_results"
   ]
  },
  {
   "cell_type": "markdown",
   "metadata": {},
   "source": [
    "Let us try to visualize the above result:"
   ]
  },
  {
   "cell_type": "code",
   "execution_count": 19,
   "metadata": {
    "collapsed": false
   },
   "outputs": [
    {
     "data": {
      "image/png": "[encoded data removed]",
      "text/plain": [
       "<matplotlib.figure.Figure at 0x21cee2c4358>"
      ]
     },
     "metadata": {},
     "output_type": "display_data"
    }
   ],
   "source": [
    "import matplotlib.pyplot as plt\n",
    "%matplotlib inline\n",
    "\n",
    "for k,v in k_r2_results.items():\n",
    "    x = list(v.keys())\n",
    "    y = list(v.values())\n",
    "    \n",
    "    plt.plot(x,y)\n",
    "    plt.xlabel('k value')\n",
    "    plt.ylabel('R2')"
   ]
  },
  {
   "cell_type": "markdown",
   "metadata": {},
   "source": [
    "Already a rough visual inspection indicates that if k is too large, the performance goes down. For most of the features which have an r2-score in the upper half, a k-value between 3-5 seems to be reasonable."
   ]
  },
  {
   "cell_type": "markdown",
   "metadata": {},
   "source": [
    "## Modelling the Price Based on Several Features\n",
    "As a preparational step to use more than one feature, we compute the average r2-score across different k values for each feature."
   ]
  },
  {
   "cell_type": "code",
   "execution_count": 68,
   "metadata": {
    "collapsed": false
   },
   "outputs": [
    {
     "data": {
      "text/plain": [
       "horsepower           0.671174\n",
       "highway-mpg          0.624199\n",
       "city-mpg             0.616847\n",
       "curb-weight          0.588453\n",
       "width                0.522778\n",
       "length               0.427903\n",
       "bore                 0.296960\n",
       "wheel-base           0.292423\n",
       "compression-rate     0.117516\n",
       "normalized-losses    0.109345\n",
       "stroke               0.072400\n",
       "peak-rpm            -0.049359\n",
       "height              -0.059951\n",
       "dtype: float64"
      ]
     },
     "execution_count": 68,
     "metadata": {},
     "output_type": "execute_result"
    }
   ],
   "source": [
    "# Compute average RMSE across different `k` values for each feature.\n",
    "feature_avg_r2 = {}\n",
    "for k,v in k_r2_results.items():\n",
    "    avg_r2 = np.mean(list(v.values()))\n",
    "    feature_avg_r2[k] = avg_r2\n",
    "    \n",
    "series_avg_r2 = pd.Series(feature_avg_r2)\n",
    "series_avg_r2.sort_values(ascending=False)"
   ]
  },
  {
   "cell_type": "markdown",
   "metadata": {},
   "source": [
    "We define now a function which allows us to train models with several different features:"
   ]
  },
  {
   "cell_type": "code",
   "execution_count": 79,
   "metadata": {
    "collapsed": false
   },
   "outputs": [],
   "source": [
    "def knn_train_test_several_cols(train_cols, target_col, data, lst_k_values):\n",
    "    \"\"\"As above but allows for more than one feature.\n",
    "    \n",
    "       Args:\n",
    "        train_cols(obj):list of names of the columns which should be used as feature\n",
    "        target_col(str): name of the target column which should be predicted\n",
    "        data(obj): pandas dataframe which contains the data\n",
    "        lst_k_values(obj): list of different k-values\n",
    "        \n",
    "    Returns:\n",
    "        r2(float): r2 score\n",
    "        k_r2(obj): dictionary where the keys are the k-values and the values are the corresponding r2-score\n",
    "    \n",
    "    \"\"\"\n",
    "    \n",
    "    np.random.seed(41)\n",
    "    \n",
    "    shuffled_index = np.random.permutation(data.index)\n",
    "    rand_data = data.reindex(shuffled_index)\n",
    "\n",
    "    last_train_row = int(len(rand_data) / 2)\n",
    "    \n",
    "    train_data = rand_data.iloc[0:last_train_row]\n",
    "    test_data = rand_data.iloc[last_train_row:]\n",
    "    \n",
    "    k_r2 = {}\n",
    "    \n",
    "    for k in lst_k_values:\n",
    "        knn = KNeighborsRegressor(n_neighbors=k)\n",
    "        knn.fit(train_data[train_cols], train_data[target_col])\n",
    "\n",
    "        predictions = knn.predict(test_data[train_cols])\n",
    "\n",
    "        r2 = r2_score(test_data[target_col], predictions)       \n",
    "        k_r2[k] = r2\n",
    "        \n",
    "    return k_r2\n"
   ]
  },
  {
   "cell_type": "markdown",
   "metadata": {},
   "source": [
    "Now we can train models with several different features. Based on the above feature ranking w.r.t. r2-score, we will train models which include the two best features, the three best features, the four best features, the five best features and the six best features. Further, based on the analysis above, we start with a k value equals 5:"
   ]
  },
  {
   "cell_type": "code",
   "execution_count": 82,
   "metadata": {
    "collapsed": false
   },
   "outputs": [
    {
     "data": {
      "text/plain": [
       "{'five best features': {5: 0.74416494984846149},\n",
       " 'four best features': {5: 0.72398360354612801},\n",
       " 'six best features': {5: 0.66415602247651329},\n",
       " 'three best features': {5: 0.79509012342150132},\n",
       " 'two best features': {5: 0.82411134816688536}}"
      ]
     },
     "execution_count": 82,
     "metadata": {},
     "output_type": "execute_result"
    }
   ],
   "source": [
    "k_r2_results = {}\n",
    "\n",
    "two_best_features = ['horsepower', 'highway-mpg']\n",
    "r2 = knn_train_test_several_cols(two_best_features, 'price', data, lst_k_values=[5])\n",
    "k_r2_results[\"two best features\"] = r2\n",
    "\n",
    "three_best_features = ['horsepower', 'highway-mpg', 'city-mpg']\n",
    "r2 = knn_train_test_several_cols(three_best_features, 'price',data, lst_k_values=[5])\n",
    "k_r2_results[\"three best features\"] = r2\n",
    "\n",
    "four_best_features = ['horsepower', 'highway-mpg', 'city-mpg', 'curb-weight']\n",
    "r2 = knn_train_test_several_cols(four_best_features, 'price',data, lst_k_values=[5])\n",
    "k_r2_results[\"four best features\"] = r2\n",
    "\n",
    "five_best_features = ['horsepower', 'highway-mpg', 'city-mpg', 'curb-weight', 'width']\n",
    "r2 = knn_train_test_several_cols(five_best_features, 'price',data, lst_k_values=[5])\n",
    "k_r2_results[\"five best features\"] = r2\n",
    "\n",
    "six_best_features = ['horsepower', 'highway-mpg', 'city-mpg', 'curb-weight', 'width', 'length']\n",
    "r2 = knn_train_test_several_cols(six_best_features, 'price', data, lst_k_values=[5])\n",
    "k_r2_results[\"six best features\"] = r2\n",
    "\n",
    "k_r2_results"
   ]
  },
  {
   "cell_type": "markdown",
   "metadata": {},
   "source": [
    "This analysis suggest that we should just take the two best features into account but let us also take differnt k-values into account:"
   ]
  },
  {
   "cell_type": "code",
   "execution_count": 86,
   "metadata": {
    "collapsed": false
   },
   "outputs": [
    {
     "data": {
      "text/plain": [
       "{'five best features': {1: 0.72390195252686573,\n",
       "  2: 0.7442943942128184,\n",
       "  3: 0.78376454864323264,\n",
       "  4: 0.7678678888728443,\n",
       "  5: 0.74416494984846149,\n",
       "  6: 0.71967656437311123,\n",
       "  7: 0.70565198768994064,\n",
       "  8: 0.69262772486889013,\n",
       "  9: 0.68567306784292836,\n",
       "  10: 0.67059102463711384,\n",
       "  11: 0.66875937505601268,\n",
       "  12: 0.66882355845778529,\n",
       "  13: 0.66803525824612275,\n",
       "  14: 0.65457694175462966,\n",
       "  15: 0.64859793878909644,\n",
       "  16: 0.6458688468652154,\n",
       "  17: 0.64483642192522517,\n",
       "  18: 0.64031221112483783,\n",
       "  19: 0.63346540493571357,\n",
       "  20: 0.62677046113059287,\n",
       "  21: 0.62614605954553815,\n",
       "  22: 0.61406073322119314,\n",
       "  23: 0.60927197940090116,\n",
       "  24: 0.60149878958302527},\n",
       " 'four best features': {1: 0.80476032385184759,\n",
       "  2: 0.82476565425885173,\n",
       "  3: 0.77048752768660023,\n",
       "  4: 0.7523767426289667,\n",
       "  5: 0.72398360354612801,\n",
       "  6: 0.70488247730666154,\n",
       "  7: 0.69514529168000627,\n",
       "  8: 0.69530369628177713,\n",
       "  9: 0.68003754945983053,\n",
       "  10: 0.68211551172942197,\n",
       "  11: 0.6806665034649384,\n",
       "  12: 0.66686839354545979,\n",
       "  13: 0.65890679893511028,\n",
       "  14: 0.64585869153659559,\n",
       "  15: 0.64051195444803422,\n",
       "  16: 0.6428137054765326,\n",
       "  17: 0.63923564547990452,\n",
       "  18: 0.63644900431630758,\n",
       "  19: 0.63786951267327141,\n",
       "  20: 0.63882636120185343,\n",
       "  21: 0.64344069098074974,\n",
       "  22: 0.63991334264816535,\n",
       "  23: 0.63577663496049874,\n",
       "  24: 0.626966316627249},\n",
       " 'six best features': {1: 0.73227732479995788,\n",
       "  2: 0.69244309543197735,\n",
       "  3: 0.65586279171191997,\n",
       "  4: 0.67756255098260587,\n",
       "  5: 0.66415602247651329,\n",
       "  6: 0.67190077938273995,\n",
       "  7: 0.66449941571452009,\n",
       "  8: 0.66108026564238376,\n",
       "  9: 0.67919624274278534,\n",
       "  10: 0.67549963673121871,\n",
       "  11: 0.67693062151697769,\n",
       "  12: 0.67806412031161234,\n",
       "  13: 0.67198628627593293,\n",
       "  14: 0.66983456513611306,\n",
       "  15: 0.66321877492484194,\n",
       "  16: 0.66005438129724836,\n",
       "  17: 0.65489855325604218,\n",
       "  18: 0.65529062102274027,\n",
       "  19: 0.64730684004117078,\n",
       "  20: 0.63960575245054407,\n",
       "  21: 0.62885112958724865,\n",
       "  22: 0.61896747159186416,\n",
       "  23: 0.60988750549798687,\n",
       "  24: 0.60176230094154004},\n",
       " 'three best features': {1: 0.75027620750819524,\n",
       "  2: 0.78014943708496376,\n",
       "  3: 0.80310671774366393,\n",
       "  4: 0.81504530185376622,\n",
       "  5: 0.79509012342150132,\n",
       "  6: 0.767664057068149,\n",
       "  7: 0.74783704680052465,\n",
       "  8: 0.73521341442001042,\n",
       "  9: 0.72183878929784118,\n",
       "  10: 0.69979589777249074,\n",
       "  11: 0.67932493837473817,\n",
       "  12: 0.66672118784079037,\n",
       "  13: 0.66856348494498252,\n",
       "  14: 0.65484057751064939,\n",
       "  15: 0.65993830183048874,\n",
       "  16: 0.64167398766106754,\n",
       "  17: 0.61725861775813362,\n",
       "  18: 0.61109956667997656,\n",
       "  19: 0.60916663245649549,\n",
       "  20: 0.59669166776802229,\n",
       "  21: 0.60328056396443763,\n",
       "  22: 0.60221647273739776,\n",
       "  23: 0.60349396326148685,\n",
       "  24: 0.60440425351112115},\n",
       " 'two best features': {1: 0.79724905498352006,\n",
       "  2: 0.83916107245238192,\n",
       "  3: 0.84899091789626635,\n",
       "  4: 0.85321597220181433,\n",
       "  5: 0.82411134816688536,\n",
       "  6: 0.79439611986988112,\n",
       "  7: 0.76717891274760275,\n",
       "  8: 0.74659748953865024,\n",
       "  9: 0.72895538388601144,\n",
       "  10: 0.7035422325780416,\n",
       "  11: 0.68405445605887638,\n",
       "  12: 0.66984657933863345,\n",
       "  13: 0.65715722782173114,\n",
       "  14: 0.68007800336567548,\n",
       "  15: 0.66576575050663134,\n",
       "  16: 0.64443455503390124,\n",
       "  17: 0.62386122105088448,\n",
       "  18: 0.62062054287566149,\n",
       "  19: 0.6230872591464176,\n",
       "  20: 0.61340980035466153,\n",
       "  21: 0.61486998629018808,\n",
       "  22: 0.61939071331820017,\n",
       "  23: 0.62032262758576162,\n",
       "  24: 0.61938190909123247}}"
      ]
     },
     "execution_count": 86,
     "metadata": {},
     "output_type": "execute_result"
    }
   ],
   "source": [
    "k_r2_results = {}\n",
    "\n",
    "two_best_features = ['horsepower', 'highway-mpg']\n",
    "r2 = knn_train_test_several_cols(two_best_features, 'price', data, lst_k_values=range(1,25))\n",
    "k_r2_results[\"two best features\"] = r2\n",
    "\n",
    "three_best_features = ['horsepower', 'highway-mpg', 'city-mpg']\n",
    "r2 = knn_train_test_several_cols(three_best_features, 'price', data, lst_k_values=range(1,25))\n",
    "k_r2_results[\"three best features\"] = r2\n",
    "\n",
    "four_best_features = ['horsepower', 'highway-mpg', 'city-mpg', 'curb-weight']\n",
    "r2 = knn_train_test_several_cols(four_best_features, 'price', data, lst_k_values=range(1,25))\n",
    "k_r2_results[\"four best features\"] = r2\n",
    "\n",
    "five_best_features = ['horsepower', 'highway-mpg', 'city-mpg', 'curb-weight', 'width']\n",
    "r2 = knn_train_test_several_cols(five_best_features, 'price', data, lst_k_values=range(1,25))\n",
    "k_r2_results[\"five best features\"] = r2\n",
    "\n",
    "six_best_features = ['horsepower', 'highway-mpg', 'city-mpg', 'curb-weight', 'width', 'length']\n",
    "r2 = knn_train_test_several_cols(six_best_features, 'price', data, lst_k_values=range(1,25))\n",
    "k_r2_results[\"six best features\"] = r2\n",
    "\n",
    "k_r2_results"
   ]
  },
  {
   "cell_type": "code",
   "execution_count": 87,
   "metadata": {
    "collapsed": false
   },
   "outputs": [
    {
     "data": {
      "image/png": "[encoded data removed]",
      "text/plain": [
       "<matplotlib.figure.Figure at 0x1d2d43ccba8>"
      ]
     },
     "metadata": {},
     "output_type": "display_data"
    }
   ],
   "source": [
    "for k,v in k_r2_results.items():\n",
    "    x = list(v.keys())\n",
    "    y = list(v.values())\n",
    "    \n",
    "    plt.plot(x,y)\n",
    "    plt.xlabel('k value')\n",
    "    plt.ylabel('R2')"
   ]
  },
  {
   "cell_type": "markdown",
   "metadata": {},
   "source": [
    "We conclude that the best model is the one which takes just the two best features into account and uses k=4 neighbors"
   ]
  },
  {
   "cell_type": "markdown",
   "metadata": {},
   "source": [
    "## Final Conclusion"
   ]
  },
  {
   "cell_type": "markdown",
   "metadata": {},
   "source": [
    "Coming back to our business questions, we have seen that the horsepower plays indeed the most important role in predicting the price of a car. The length is less important, and it has not been included in the final model for the price prediction (but it still gives some indications to the price). The best model for car price prediction which we found is a knn-model which uses just the two features horsepower and highway-mpg. With a r2-score of 85% we feel confident to give a positive answer to the last business question, i.e. we believe we ca predict the price of a care based on its features with reasonable accuracy."
   ]
  },
  {
   "cell_type": "code",
   "execution_count": null,
   "metadata": {
    "collapsed": true
   },
   "outputs": [],
   "source": []
  }
 ],
 "metadata": {
  "kernelspec": {
   "display_name": "Python 3",
   "language": "python",
   "name": "python3"
  },
  "language_info": {
   "codemirror_mode": {
    "name": "ipython",
    "version": 3
   },
   "file_extension": ".py",
   "mimetype": "text/x-python",
   "name": "python",
   "nbconvert_exporter": "python",
   "pygments_lexer": "ipython3",
   "version": "3.6.0"
  }
 },
 "nbformat": 4,
 "nbformat_minor": 2
}
